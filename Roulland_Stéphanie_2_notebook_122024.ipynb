{
 "cells": [
  {
   "cell_type": "markdown",
   "id": "62bba457-3078-428a-a4ef-e89140584278",
   "metadata": {},
   "source": [
    "***AI Engineer - P9 - Développez une preuve de concept***"
   ]
  },
  {
   "cell_type": "markdown",
   "id": "e61033d0-62f3-4905-88eb-2b8e21960fc1",
   "metadata": {},
   "source": [
    "# Importation des modules"
   ]
  },
  {
   "cell_type": "code",
   "execution_count": 1,
   "id": "0237a702-1939-4d54-90c0-bb86ead2f6a5",
   "metadata": {},
   "outputs": [],
   "source": [
    "import pandas as pd\n",
    "import matplotlib.pyplot as plt\n",
    "import pickle\n",
    "from sklearn.metrics import accuracy_score, f1_score, roc_auc_score, classification_report\n",
    "from transformers import DistilBertTokenizer, DistilBertForSequenceClassification, Trainer, TrainingArguments\n",
    "from transformers import pipeline\n",
    "import torch\n",
    "from sklearn.model_selection import train_test_split\n",
    "from sklearn.feature_extraction.text import TfidfVectorizer\n",
    "from datasets import Dataset"
   ]
  },
  {
   "cell_type": "markdown",
   "id": "14405add-7926-4c73-9169-ba39ae3428ce",
   "metadata": {},
   "source": [
    "# Fonctions"
   ]
  },
  {
   "cell_type": "code",
   "execution_count": 2,
   "id": "32371672-ce3b-4ec6-abb4-79f15fe6c167",
   "metadata": {},
   "outputs": [],
   "source": [
    "def inspect_dataframe(df):\n",
    "    \"\"\"\n",
    "    Fonction pour afficher des informations sur un dataframe pandas donné.\n",
    "\n",
    "    Paramètres:\n",
    "    df (pd.DataFrame): Le dataframe à inspecter.\n",
    "\n",
    "    Retourne:\n",
    "    None\n",
    "    \"\"\"\n",
    "    # Affichage des informations de base\n",
    "    print(f\"Le dataframe comporte {df.shape[0]} observation(s) ou article(s).\")\n",
    "    print(f\"Le dataframe comporte {df.shape[1]} colonne(s).\")\n",
    "\n",
    "    # Affichage des types de chaque colonne\n",
    "    print(\"\\nTypes de chaque colonne:\")\n",
    "    print(df.dtypes)\n",
    "\n",
    "    # Affichage des valeurs manquantes\n",
    "    missing = df.isnull().sum()\n",
    "    percent_missing = df.isnull().mean() * 100\n",
    "    missing_df = pd.DataFrame({\n",
    "        'Nombre de valeurs manquantes': missing,\n",
    "        'Pourcentage': percent_missing\n",
    "    })\n",
    "    print(\"\\nNombre et pourcentage de valeurs manquantes par colonne:\")\n",
    "    print(missing_df)"
   ]
  },
  {
   "cell_type": "code",
   "execution_count": 3,
   "id": "df83ffcd-dcaf-4e02-a6b5-1b1c10a4c41d",
   "metadata": {},
   "outputs": [],
   "source": [
    "def remove_mentions(df, column_name):\n",
    "    \"\"\"\n",
    "    Supprime tous les mots commençant par un @ dans une colonne spécifique d'un DataFrame.\n",
    "    \n",
    "    Parameters:\n",
    "    df (pd.DataFrame): Le DataFrame contenant les données.\n",
    "    column_name (str): Le nom de la colonne où les mentions doivent être supprimées.\n",
    "    \n",
    "    Returns:\n",
    "    pd.DataFrame: Le DataFrame avec les mentions supprimées.\n",
    "    \"\"\"\n",
    "    # Fonction pour supprimer les mots commençant par @\n",
    "    def remove_mentions(text):\n",
    "        return ' '.join(word for word in text.split() if not word.startswith('@'))\n",
    "    \n",
    "    # Appliquer la fonction de nettoyage sur la colonne spécifiée\n",
    "    df[column_name] = df[column_name].apply(remove_mentions)\n",
    "    \n",
    "    return df"
   ]
  },
  {
   "cell_type": "code",
   "execution_count": 4,
   "id": "3b875829-b63a-4fea-b8f3-4a5bbcf8d590",
   "metadata": {},
   "outputs": [],
   "source": [
    "# Conversion en Dataset\n",
    "def encode_data(encodings, labels):\n",
    "    return Dataset.from_dict({\n",
    "        'input_ids': encodings['input_ids'],\n",
    "        'attention_mask': encodings['attention_mask'],\n",
    "        'labels': labels\n",
    "    })"
   ]
  },
  {
   "cell_type": "markdown",
   "id": "b990ece5-06a8-488a-be51-0dc88728733b",
   "metadata": {},
   "source": [
    "# Chargement des données"
   ]
  },
  {
   "cell_type": "code",
   "execution_count": 5,
   "id": "d8c5a47c-bcff-4d8d-a5a8-bbc4898b9bf0",
   "metadata": {},
   "outputs": [],
   "source": [
    "df_tweets = pd.read_csv(r\"training.1600000.processed.noemoticon.csv\", header=None, encoding='ISO-8859-1')"
   ]
  },
  {
   "cell_type": "code",
   "execution_count": 6,
   "id": "cbf17807-d201-4c89-96c4-e2f90394ade4",
   "metadata": {},
   "outputs": [],
   "source": [
    "# Ajout d'un en-tête\n",
    "df_tweets.columns = [\"target\", \"ids\", \"date\", \"flag\", \"user\", \"text\"]"
   ]
  },
  {
   "cell_type": "markdown",
   "id": "8465a96c-360e-4861-8f88-d4d2b81dae25",
   "metadata": {},
   "source": [
    "# Analyse exploratoire des données"
   ]
  },
  {
   "cell_type": "code",
   "execution_count": 7,
   "id": "f9c4f1b5-03b0-4aaf-9fb3-a4463d460d18",
   "metadata": {},
   "outputs": [
    {
     "name": "stdout",
     "output_type": "stream",
     "text": [
      "Le dataframe comporte 1600000 observation(s) ou article(s).\n",
      "Le dataframe comporte 6 colonne(s).\n",
      "\n",
      "Types de chaque colonne:\n",
      "target     int64\n",
      "ids        int64\n",
      "date      object\n",
      "flag      object\n",
      "user      object\n",
      "text      object\n",
      "dtype: object\n",
      "\n",
      "Nombre et pourcentage de valeurs manquantes par colonne:\n",
      "        Nombre de valeurs manquantes  Pourcentage\n",
      "target                             0          0.0\n",
      "ids                                0          0.0\n",
      "date                               0          0.0\n",
      "flag                               0          0.0\n",
      "user                               0          0.0\n",
      "text                               0          0.0\n"
     ]
    }
   ],
   "source": [
    "inspect_dataframe(df_tweets)"
   ]
  },
  {
   "cell_type": "markdown",
   "id": "dd96528e-bead-4326-8b3b-21d66f87e13e",
   "metadata": {},
   "source": [
    "## target"
   ]
  },
  {
   "cell_type": "code",
   "execution_count": 8,
   "id": "60959afe-9c31-4dc5-bc75-c4d3fa92869f",
   "metadata": {},
   "outputs": [
    {
     "name": "stdout",
     "output_type": "stream",
     "text": [
      "Nombre de valeurs uniques dans 'target': 2\n",
      "Valeurs uniques dans 'target':\n",
      "[0 4]\n"
     ]
    }
   ],
   "source": [
    "nombre_valeurs_uniques = df_tweets['target'].nunique()\n",
    "valeurs_uniques = df_tweets['target'].unique()\n",
    "\n",
    "# Affichage du nombre de valeurs uniques\n",
    "print(f\"Nombre de valeurs uniques dans 'target': {nombre_valeurs_uniques}\")\n",
    "\n",
    "# Affichage des valeurs uniques\n",
    "print(f\"Valeurs uniques dans 'target':\\n{valeurs_uniques}\")"
   ]
  },
  {
   "cell_type": "markdown",
   "id": "e4d55e5e-93a5-41c0-9ec7-b7758106bf2d",
   "metadata": {},
   "source": [
    "**0** correspond à un tweet **négatif**.\n",
    "\n",
    "**4** correspond à un tweet **positif**."
   ]
  },
  {
   "cell_type": "code",
   "execution_count": 9,
   "id": "dacc64d4-be7f-4be6-a3fa-e54b024a9ebc",
   "metadata": {},
   "outputs": [],
   "source": [
    "# Replacement de la valeur 4 (positif) par 1\n",
    "df_tweets['target'] = df_tweets['target'].apply(lambda x: 1 if x == 4 else 0)"
   ]
  },
  {
   "cell_type": "code",
   "execution_count": 10,
   "id": "45a39d8c-590d-4eaf-9b0f-779fe6250d89",
   "metadata": {},
   "outputs": [
    {
     "data": {
      "image/png": "[encoded data removed]",
      "text/plain": [
       "<Figure size 800x800 with 1 Axes>"
      ]
     },
     "metadata": {},
     "output_type": "display_data"
    }
   ],
   "source": [
    "# Compter les occurrences de chaque valeur unique\n",
    "valeurs_comptes = df_tweets['target'].value_counts()\n",
    "\n",
    "# Créer le pie plot\n",
    "plt.figure(figsize=(8, 8))\n",
    "plt.pie(valeurs_comptes, labels=valeurs_comptes.index, autopct='%1.1f%%', startangle=140)\n",
    "plt.title(\"Répartition des valeurs dans 'target'\")\n",
    "plt.show()"
   ]
  },
  {
   "cell_type": "markdown",
   "id": "747f93bb-c857-4c9a-9c96-23b7c4f965ce",
   "metadata": {},
   "source": [
    "On a autant de tweets négatifs que positifs."
   ]
  },
  {
   "cell_type": "markdown",
   "id": "4d1f2fae-179a-497a-a3b8-f73995b8ca74",
   "metadata": {},
   "source": [
    "## ids"
   ]
  },
  {
   "cell_type": "code",
   "execution_count": 11,
   "id": "cef69e5c-727f-40b9-ac0a-58955c07476c",
   "metadata": {},
   "outputs": [
    {
     "name": "stdout",
     "output_type": "stream",
     "text": [
      "Nombre de valeurs uniques dans 'ids': 1598315\n",
      "Valeurs uniques dans 'ids':\n",
      "[1467810369 1467810672 1467810917 ... 2193601991 2193602064 2193602129]\n"
     ]
    }
   ],
   "source": [
    "nombre_valeurs_uniques = df_tweets['ids'].nunique()\n",
    "valeurs_uniques = df_tweets['ids'].unique()\n",
    "\n",
    "# Affichage du nombre de valeurs uniques\n",
    "print(f\"Nombre de valeurs uniques dans 'ids': {nombre_valeurs_uniques}\")\n",
    "\n",
    "# Affichage des valeurs uniques\n",
    "print(f\"Valeurs uniques dans 'ids':\\n{valeurs_uniques}\")"
   ]
  },
  {
   "cell_type": "code",
   "execution_count": 12,
   "id": "0a04e54a-6198-4815-8d5e-8b3376e6a6ed",
   "metadata": {},
   "outputs": [
    {
     "name": "stdout",
     "output_type": "stream",
     "text": [
      "         target         ids                          date      flag  \\\n",
      "213           0  1467863684  Mon Apr 06 22:33:35 PDT 2009  NO_QUERY   \n",
      "800261        1  1467863684  Mon Apr 06 22:33:35 PDT 2009  NO_QUERY   \n",
      "800300        1  1467880442  Mon Apr 06 22:38:04 PDT 2009  NO_QUERY   \n",
      "275           0  1467880442  Mon Apr 06 22:38:04 PDT 2009  NO_QUERY   \n",
      "989           0  1468053611  Mon Apr 06 23:28:09 PDT 2009  NO_QUERY   \n",
      "...         ...         ...                           ...       ...   \n",
      "1599385       1  2193428118  Tue Jun 16 08:26:44 PDT 2009  NO_QUERY   \n",
      "1599440       1  2193451289  Tue Jun 16 08:28:37 PDT 2009  NO_QUERY   \n",
      "524345        0  2193451289  Tue Jun 16 08:28:37 PDT 2009  NO_QUERY   \n",
      "1599931       1  2193576442  Tue Jun 16 08:38:45 PDT 2009  NO_QUERY   \n",
      "524688        0  2193576442  Tue Jun 16 08:38:45 PDT 2009  NO_QUERY   \n",
      "\n",
      "                 user                                               text  \n",
      "213          DjGundam  Awwh babs... you look so sad underneith that s...  \n",
      "800261       DjGundam  Awwh babs... you look so sad underneith that s...  \n",
      "800300        iCalvin  Haven't tweeted nearly all day  Posted my webs...  \n",
      "275           iCalvin  Haven't tweeted nearly all day  Posted my webs...  \n",
      "989       mariejamora  @hellobebe I also send some updates in plurk b...  \n",
      "...               ...                                                ...  \n",
      "1599385     bubbles00  finally finished typing!!!! Woohoooo  , still ...  \n",
      "1599440  faiznurdavid  @fanafatin see, @misschimichanga tweet u to jo...  \n",
      "524345   faiznurdavid  @fanafatin see, @misschimichanga tweet u to jo...  \n",
      "1599931    emma_b_xox  Had an injection today. Not fun  the rrst of t...  \n",
      "524688     emma_b_xox  Had an injection today. Not fun  the rrst of t...  \n",
      "\n",
      "[3370 rows x 6 columns]\n"
     ]
    }
   ],
   "source": [
    "# Doublons dans la colonne 'ids'\n",
    "doublons = df_tweets[df_tweets.duplicated('ids', keep=False)]\n",
    "\n",
    "# Tri des doublons par la colonne 'ids' pour regrouper les lignes ayant le même id ensemble\n",
    "doublons_trie = doublons.sort_values(by='ids')\n",
    "\n",
    "# Affichage des lignes avec des ids en doublons\n",
    "print(doublons_trie)"
   ]
  },
  {
   "cell_type": "markdown",
   "id": "8d68a715-1227-4b52-aed0-588235bd8325",
   "metadata": {},
   "source": [
    "## date"
   ]
  },
  {
   "cell_type": "code",
   "execution_count": 13,
   "id": "9e9fd9ea-e67b-453f-8dbd-eeef60108388",
   "metadata": {},
   "outputs": [
    {
     "name": "stdout",
     "output_type": "stream",
     "text": [
      "Nombre de valeurs uniques dans 'date': 774363\n",
      "Valeurs uniques dans 'date':\n",
      "['Mon Apr 06 22:19:45 PDT 2009' 'Mon Apr 06 22:19:49 PDT 2009'\n",
      " 'Mon Apr 06 22:19:53 PDT 2009' ... 'Tue Jun 16 08:38:58 PDT 2009'\n",
      " 'Tue Jun 16 08:39:00 PDT 2009' 'Tue Jun 16 08:40:50 PDT 2009']\n"
     ]
    }
   ],
   "source": [
    "nombre_valeurs_uniques = df_tweets['date'].nunique()\n",
    "valeurs_uniques = df_tweets['date'].unique()\n",
    "\n",
    "# Affichage du nombre de valeurs uniques\n",
    "print(f\"Nombre de valeurs uniques dans 'date': {nombre_valeurs_uniques}\")\n",
    "\n",
    "# Affichage des valeurs uniques\n",
    "print(f\"Valeurs uniques dans 'date':\\n{valeurs_uniques}\")"
   ]
  },
  {
   "cell_type": "markdown",
   "id": "5e9dbe7b-0146-4065-bef3-93e4e4460fa8",
   "metadata": {},
   "source": [
    "## flag"
   ]
  },
  {
   "cell_type": "code",
   "execution_count": 14,
   "id": "523fdf5d-c866-46d4-9ec8-490c291309fe",
   "metadata": {},
   "outputs": [
    {
     "name": "stdout",
     "output_type": "stream",
     "text": [
      "Nombre de valeurs uniques dans 'flag': 1\n",
      "Valeurs uniques dans 'flag':\n",
      "['NO_QUERY']\n"
     ]
    }
   ],
   "source": [
    "nombre_valeurs_uniques = df_tweets['flag'].nunique()\n",
    "valeurs_uniques = df_tweets['flag'].unique()\n",
    "\n",
    "# Affichage du nombre de valeurs uniques\n",
    "print(f\"Nombre de valeurs uniques dans 'flag': {nombre_valeurs_uniques}\")\n",
    "\n",
    "# Affichage des valeurs uniques\n",
    "print(f\"Valeurs uniques dans 'flag':\\n{valeurs_uniques}\")"
   ]
  },
  {
   "cell_type": "markdown",
   "id": "e712f342-0bec-4f7d-8502-2d7d99cbaac0",
   "metadata": {},
   "source": [
    "## user"
   ]
  },
  {
   "cell_type": "code",
   "execution_count": 15,
   "id": "43dc8a19-bcae-47ad-a6e7-040a294af185",
   "metadata": {},
   "outputs": [
    {
     "name": "stdout",
     "output_type": "stream",
     "text": [
      "Nombre de valeurs uniques dans 'user': 659775\n",
      "Valeurs uniques dans 'user':\n",
      "['_TheSpecialOne_' 'scotthamilton' 'mattycus' ... 'EvolveTom'\n",
      " 'AmandaMarie1028' 'bpbabe']\n"
     ]
    }
   ],
   "source": [
    "nombre_valeurs_uniques = df_tweets['user'].nunique()\n",
    "valeurs_uniques = df_tweets['user'].unique()\n",
    "\n",
    "# Affichage du nombre de valeurs uniques\n",
    "print(f\"Nombre de valeurs uniques dans 'user': {nombre_valeurs_uniques}\")\n",
    "\n",
    "# Affichage des valeurs uniques\n",
    "print(f\"Valeurs uniques dans 'user':\\n{valeurs_uniques}\")"
   ]
  },
  {
   "cell_type": "markdown",
   "id": "292baea6-1df5-423c-8893-c5a2dedd2c7b",
   "metadata": {},
   "source": [
    "## text"
   ]
  },
  {
   "cell_type": "code",
   "execution_count": 16,
   "id": "e43d1a73-f0d9-4ff3-a6c9-7376ae94805f",
   "metadata": {},
   "outputs": [
    {
     "name": "stdout",
     "output_type": "stream",
     "text": [
      "Nombre de valeurs uniques dans 'text': 1581466\n",
      "Valeurs uniques dans 'text':\n",
      "[\"@switchfoot http://twitpic.com/2y1zl - Awww, that's a bummer.  You shoulda got David Carr of Third Day to do it. ;D\"\n",
      " \"is upset that he can't update his Facebook by texting it... and might cry as a result  School today also. Blah!\"\n",
      " '@Kenichan I dived many times for the ball. Managed to save 50%  The rest go out of bounds'\n",
      " ... 'Are you ready for your MoJo Makeover? Ask me for details '\n",
      " 'Happy 38th Birthday to my boo of alll time!!! Tupac Amaru Shakur '\n",
      " 'happy #charitytuesday @theNSPCC @SparksCharity @SpeakingUpH4H ']\n"
     ]
    }
   ],
   "source": [
    "nombre_valeurs_uniques = df_tweets['text'].nunique()\n",
    "valeurs_uniques = df_tweets['text'].unique()\n",
    "\n",
    "# Affichage du nombre de valeurs uniques\n",
    "print(f\"Nombre de valeurs uniques dans 'text': {nombre_valeurs_uniques}\")\n",
    "\n",
    "# Affichage des valeurs uniques\n",
    "print(f\"Valeurs uniques dans 'text':\\n{valeurs_uniques}\")"
   ]
  },
  {
   "cell_type": "markdown",
   "id": "af5b62da-068f-4215-bd56-6872c375689a",
   "metadata": {},
   "source": [
    "Il y a des tweets en doublons, on va en conserver un seul à chaque fois."
   ]
  },
  {
   "cell_type": "code",
   "execution_count": 17,
   "id": "f058b001-39f8-4421-9e15-b8e97a0467e2",
   "metadata": {},
   "outputs": [],
   "source": [
    "df_tweets = remove_mentions(df_tweets, \"text\")"
   ]
  },
  {
   "cell_type": "code",
   "execution_count": 18,
   "id": "6ae123f2-cb5e-4fca-adf5-57cecd3016e4",
   "metadata": {},
   "outputs": [
    {
     "data": {
      "text/html": [
       "<div>\n",
       "<style scoped>\n",
       "    .dataframe tbody tr th:only-of-type {\n",
       "        vertical-align: middle;\n",
       "    }\n",
       "\n",
       "    .dataframe tbody tr th {\n",
       "        vertical-align: top;\n",
       "    }\n",
       "\n",
       "    .dataframe thead th {\n",
       "        text-align: right;\n",
       "    }\n",
       "</style>\n",
       "<table border=\"1\" class=\"dataframe\">\n",
       "  <thead>\n",
       "    <tr style=\"text-align: right;\">\n",
       "      <th></th>\n",
       "      <th>target</th>\n",
       "      <th>ids</th>\n",
       "      <th>date</th>\n",
       "      <th>flag</th>\n",
       "      <th>user</th>\n",
       "      <th>text</th>\n",
       "    </tr>\n",
       "  </thead>\n",
       "  <tbody>\n",
       "    <tr>\n",
       "      <th>0</th>\n",
       "      <td>0</td>\n",
       "      <td>1467810369</td>\n",
       "      <td>Mon Apr 06 22:19:45 PDT 2009</td>\n",
       "      <td>NO_QUERY</td>\n",
       "      <td>_TheSpecialOne_</td>\n",
       "      <td>http://twitpic.com/2y1zl - Awww, that's a bumm...</td>\n",
       "    </tr>\n",
       "    <tr>\n",
       "      <th>1</th>\n",
       "      <td>0</td>\n",
       "      <td>1467810672</td>\n",
       "      <td>Mon Apr 06 22:19:49 PDT 2009</td>\n",
       "      <td>NO_QUERY</td>\n",
       "      <td>scotthamilton</td>\n",
       "      <td>is upset that he can't update his Facebook by ...</td>\n",
       "    </tr>\n",
       "    <tr>\n",
       "      <th>2</th>\n",
       "      <td>0</td>\n",
       "      <td>1467810917</td>\n",
       "      <td>Mon Apr 06 22:19:53 PDT 2009</td>\n",
       "      <td>NO_QUERY</td>\n",
       "      <td>mattycus</td>\n",
       "      <td>I dived many times for the ball. Managed to sa...</td>\n",
       "    </tr>\n",
       "    <tr>\n",
       "      <th>3</th>\n",
       "      <td>0</td>\n",
       "      <td>1467811184</td>\n",
       "      <td>Mon Apr 06 22:19:57 PDT 2009</td>\n",
       "      <td>NO_QUERY</td>\n",
       "      <td>ElleCTF</td>\n",
       "      <td>my whole body feels itchy and like its on fire</td>\n",
       "    </tr>\n",
       "    <tr>\n",
       "      <th>4</th>\n",
       "      <td>0</td>\n",
       "      <td>1467811193</td>\n",
       "      <td>Mon Apr 06 22:19:57 PDT 2009</td>\n",
       "      <td>NO_QUERY</td>\n",
       "      <td>Karoli</td>\n",
       "      <td>no, it's not behaving at all. i'm mad. why am ...</td>\n",
       "    </tr>\n",
       "  </tbody>\n",
       "</table>\n",
       "</div>"
      ],
      "text/plain": [
       "   target         ids                          date      flag  \\\n",
       "0       0  1467810369  Mon Apr 06 22:19:45 PDT 2009  NO_QUERY   \n",
       "1       0  1467810672  Mon Apr 06 22:19:49 PDT 2009  NO_QUERY   \n",
       "2       0  1467810917  Mon Apr 06 22:19:53 PDT 2009  NO_QUERY   \n",
       "3       0  1467811184  Mon Apr 06 22:19:57 PDT 2009  NO_QUERY   \n",
       "4       0  1467811193  Mon Apr 06 22:19:57 PDT 2009  NO_QUERY   \n",
       "\n",
       "              user                                               text  \n",
       "0  _TheSpecialOne_  http://twitpic.com/2y1zl - Awww, that's a bumm...  \n",
       "1    scotthamilton  is upset that he can't update his Facebook by ...  \n",
       "2         mattycus  I dived many times for the ball. Managed to sa...  \n",
       "3          ElleCTF     my whole body feels itchy and like its on fire  \n",
       "4           Karoli  no, it's not behaving at all. i'm mad. why am ...  "
      ]
     },
     "execution_count": 18,
     "metadata": {},
     "output_type": "execute_result"
    }
   ],
   "source": [
    "df_tweets.head()"
   ]
  },
  {
   "cell_type": "code",
   "execution_count": 19,
   "id": "97182970-fcbd-4c84-b9ed-cdd34f048100",
   "metadata": {},
   "outputs": [],
   "source": [
    "# Supprimer les doublons basés sur la colonne 'text'\n",
    "df_tweets = df_tweets.drop_duplicates(subset='text')\n",
    "\n",
    "# Optionnel : Réinitialiser l'index après la suppression des doublons\n",
    "df_tweets.reset_index(drop=True, inplace=True)"
   ]
  },
  {
   "cell_type": "code",
   "execution_count": 20,
   "id": "fa768610-565b-4f4e-9a37-2c3c34430569",
   "metadata": {},
   "outputs": [
    {
     "data": {
      "image/png": "[encoded data removed]",
      "text/plain": [
       "<Figure size 1000x600 with 1 Axes>"
      ]
     },
     "metadata": {},
     "output_type": "display_data"
    }
   ],
   "source": [
    "# Calcul du nombre de mots dans chaque tweet\n",
    "df_tweets['word_count'] = df_tweets['text'].apply(lambda x: len(x.split()))\n",
    "\n",
    "# Création de l'histogramme\n",
    "plt.figure(figsize=(10, 6))\n",
    "plt.hist(df_tweets['word_count'], bins=20, edgecolor='black')\n",
    "plt.title('Distribution du nombre de mots dans les tweets')\n",
    "plt.xlabel('Nombre de mots')\n",
    "plt.ylabel('Nombre de tweets')\n",
    "plt.grid(True)\n",
    "plt.show()"
   ]
  },
  {
   "cell_type": "code",
   "execution_count": 21,
   "id": "2a177446-6494-433e-b2e8-77dbae811ec5",
   "metadata": {},
   "outputs": [
    {
     "data": {
      "text/plain": [
       "count    1.551387e+06\n",
       "mean     1.291379e+01\n",
       "std      6.835337e+00\n",
       "min      0.000000e+00\n",
       "25%      7.000000e+00\n",
       "50%      1.200000e+01\n",
       "75%      1.800000e+01\n",
       "max      6.400000e+01\n",
       "Name: word_count, dtype: float64"
      ]
     },
     "execution_count": 21,
     "metadata": {},
     "output_type": "execute_result"
    }
   ],
   "source": [
    "df_tweets['word_count'].describe()"
   ]
  },
  {
   "cell_type": "markdown",
   "id": "019984d2-785f-4f97-a018-14940283409f",
   "metadata": {},
   "source": [
    "Le tweet le plus petit contient 0 mot, celui le plus long 64 mots. Le nombre moyen de mots par tweet est de 13 mots.\n",
    "\n",
    "On va supprimer les lignes où le texte ne contient pas de mots."
   ]
  },
  {
   "cell_type": "code",
   "execution_count": 22,
   "id": "1f532b66-c896-4cfc-bc98-ffba4af2ccd9",
   "metadata": {},
   "outputs": [
    {
     "data": {
      "text/html": [
       "<div>\n",
       "<style scoped>\n",
       "    .dataframe tbody tr th:only-of-type {\n",
       "        vertical-align: middle;\n",
       "    }\n",
       "\n",
       "    .dataframe tbody tr th {\n",
       "        vertical-align: top;\n",
       "    }\n",
       "\n",
       "    .dataframe thead th {\n",
       "        text-align: right;\n",
       "    }\n",
       "</style>\n",
       "<table border=\"1\" class=\"dataframe\">\n",
       "  <thead>\n",
       "    <tr style=\"text-align: right;\">\n",
       "      <th></th>\n",
       "      <th>target</th>\n",
       "      <th>ids</th>\n",
       "      <th>date</th>\n",
       "      <th>flag</th>\n",
       "      <th>user</th>\n",
       "      <th>text</th>\n",
       "      <th>word_count</th>\n",
       "    </tr>\n",
       "  </thead>\n",
       "  <tbody>\n",
       "    <tr>\n",
       "      <th>0</th>\n",
       "      <td>0</td>\n",
       "      <td>1467810369</td>\n",
       "      <td>Mon Apr 06 22:19:45 PDT 2009</td>\n",
       "      <td>NO_QUERY</td>\n",
       "      <td>_TheSpecialOne_</td>\n",
       "      <td>http://twitpic.com/2y1zl - Awww, that's a bumm...</td>\n",
       "      <td>18</td>\n",
       "    </tr>\n",
       "    <tr>\n",
       "      <th>1</th>\n",
       "      <td>0</td>\n",
       "      <td>1467810672</td>\n",
       "      <td>Mon Apr 06 22:19:49 PDT 2009</td>\n",
       "      <td>NO_QUERY</td>\n",
       "      <td>scotthamilton</td>\n",
       "      <td>is upset that he can't update his Facebook by ...</td>\n",
       "      <td>21</td>\n",
       "    </tr>\n",
       "    <tr>\n",
       "      <th>2</th>\n",
       "      <td>0</td>\n",
       "      <td>1467810917</td>\n",
       "      <td>Mon Apr 06 22:19:53 PDT 2009</td>\n",
       "      <td>NO_QUERY</td>\n",
       "      <td>mattycus</td>\n",
       "      <td>I dived many times for the ball. Managed to sa...</td>\n",
       "      <td>17</td>\n",
       "    </tr>\n",
       "    <tr>\n",
       "      <th>3</th>\n",
       "      <td>0</td>\n",
       "      <td>1467811184</td>\n",
       "      <td>Mon Apr 06 22:19:57 PDT 2009</td>\n",
       "      <td>NO_QUERY</td>\n",
       "      <td>ElleCTF</td>\n",
       "      <td>my whole body feels itchy and like its on fire</td>\n",
       "      <td>10</td>\n",
       "    </tr>\n",
       "    <tr>\n",
       "      <th>4</th>\n",
       "      <td>0</td>\n",
       "      <td>1467811193</td>\n",
       "      <td>Mon Apr 06 22:19:57 PDT 2009</td>\n",
       "      <td>NO_QUERY</td>\n",
       "      <td>Karoli</td>\n",
       "      <td>no, it's not behaving at all. i'm mad. why am ...</td>\n",
       "      <td>20</td>\n",
       "    </tr>\n",
       "  </tbody>\n",
       "</table>\n",
       "</div>"
      ],
      "text/plain": [
       "   target         ids                          date      flag  \\\n",
       "0       0  1467810369  Mon Apr 06 22:19:45 PDT 2009  NO_QUERY   \n",
       "1       0  1467810672  Mon Apr 06 22:19:49 PDT 2009  NO_QUERY   \n",
       "2       0  1467810917  Mon Apr 06 22:19:53 PDT 2009  NO_QUERY   \n",
       "3       0  1467811184  Mon Apr 06 22:19:57 PDT 2009  NO_QUERY   \n",
       "4       0  1467811193  Mon Apr 06 22:19:57 PDT 2009  NO_QUERY   \n",
       "\n",
       "              user                                               text  \\\n",
       "0  _TheSpecialOne_  http://twitpic.com/2y1zl - Awww, that's a bumm...   \n",
       "1    scotthamilton  is upset that he can't update his Facebook by ...   \n",
       "2         mattycus  I dived many times for the ball. Managed to sa...   \n",
       "3          ElleCTF     my whole body feels itchy and like its on fire   \n",
       "4           Karoli  no, it's not behaving at all. i'm mad. why am ...   \n",
       "\n",
       "   word_count  \n",
       "0          18  \n",
       "1          21  \n",
       "2          17  \n",
       "3          10  \n",
       "4          20  "
      ]
     },
     "execution_count": 22,
     "metadata": {},
     "output_type": "execute_result"
    }
   ],
   "source": [
    "# Filtrage des lignes où le nombre de mots est supérieur à 0\n",
    "df_tweets = df_tweets[df_tweets['word_count'] > 0].reset_index(drop=True)\n",
    "\n",
    "# Affichage du dataFrame filtré\n",
    "df_tweets.head()"
   ]
  },
  {
   "cell_type": "code",
   "execution_count": 23,
   "id": "7665eb10-ec42-48a1-8446-31eb442d5adc",
   "metadata": {},
   "outputs": [
    {
     "data": {
      "text/plain": [
       "count    1.551386e+06\n",
       "mean     1.291379e+01\n",
       "std      6.835332e+00\n",
       "min      1.000000e+00\n",
       "25%      7.000000e+00\n",
       "50%      1.200000e+01\n",
       "75%      1.800000e+01\n",
       "max      6.400000e+01\n",
       "Name: word_count, dtype: float64"
      ]
     },
     "execution_count": 23,
     "metadata": {},
     "output_type": "execute_result"
    }
   ],
   "source": [
    "df_tweets['word_count'].describe()"
   ]
  },
  {
   "cell_type": "code",
   "execution_count": 24,
   "id": "e158d4ce-ce92-49e7-b7f9-1d7a123b7bcb",
   "metadata": {},
   "outputs": [
    {
     "data": {
      "text/plain": [
       "(1551386, 7)"
      ]
     },
     "execution_count": 24,
     "metadata": {},
     "output_type": "execute_result"
    }
   ],
   "source": [
    "df_tweets.shape"
   ]
  },
  {
   "cell_type": "markdown",
   "id": "0302805b-bc78-4931-99dc-01e035a4b90b",
   "metadata": {},
   "source": [
    "# Création du dataframe final"
   ]
  },
  {
   "cell_type": "code",
   "execution_count": 25,
   "id": "e42b9efa-75f4-42ef-884b-f9e51897314b",
   "metadata": {},
   "outputs": [],
   "source": [
    "df = df_tweets[['target', 'text']]"
   ]
  },
  {
   "cell_type": "code",
   "execution_count": 26,
   "id": "01bb3c25-80ed-4171-92c1-6707c15d29a7",
   "metadata": {},
   "outputs": [],
   "source": [
    "# Sélection de 25 000 tweets négatifs\n",
    "df_negatifs = df[df['target'] == 0].sample(n=25000, random_state=42)\n",
    "\n",
    "# Sélection de 25 000 tweets positifs\n",
    "df_positifs = df[df['target'] == 1].sample(n=25000, random_state=42)\n",
    "\n",
    "# Regroupement des deux DataFrames\n",
    "df_final = pd.concat([df_negatifs, df_positifs], ignore_index=True)"
   ]
  },
  {
   "cell_type": "code",
   "execution_count": 27,
   "id": "cab478b8-cd76-48c2-b0e8-be3f6f88efe3",
   "metadata": {},
   "outputs": [
    {
     "data": {
      "text/plain": [
       "(50000, 2)"
      ]
     },
     "execution_count": 27,
     "metadata": {},
     "output_type": "execute_result"
    }
   ],
   "source": [
    "df_final.shape"
   ]
  },
  {
   "cell_type": "code",
   "execution_count": 28,
   "id": "54f72843-2a62-4642-9b7e-87031beb068d",
   "metadata": {},
   "outputs": [
    {
     "data": {
      "text/html": [
       "<div>\n",
       "<style scoped>\n",
       "    .dataframe tbody tr th:only-of-type {\n",
       "        vertical-align: middle;\n",
       "    }\n",
       "\n",
       "    .dataframe tbody tr th {\n",
       "        vertical-align: top;\n",
       "    }\n",
       "\n",
       "    .dataframe thead th {\n",
       "        text-align: right;\n",
       "    }\n",
       "</style>\n",
       "<table border=\"1\" class=\"dataframe\">\n",
       "  <thead>\n",
       "    <tr style=\"text-align: right;\">\n",
       "      <th></th>\n",
       "      <th>target</th>\n",
       "      <th>text</th>\n",
       "    </tr>\n",
       "  </thead>\n",
       "  <tbody>\n",
       "    <tr>\n",
       "      <th>0</th>\n",
       "      <td>0</td>\n",
       "      <td>Borderline suicidal, started at half 10 today ...</td>\n",
       "    </tr>\n",
       "    <tr>\n",
       "      <th>1</th>\n",
       "      <td>0</td>\n",
       "      <td>i was in your store on monday didnt see you i ...</td>\n",
       "    </tr>\n",
       "    <tr>\n",
       "      <th>2</th>\n",
       "      <td>0</td>\n",
       "      <td>where have you been,you better come with me to...</td>\n",
       "    </tr>\n",
       "    <tr>\n",
       "      <th>3</th>\n",
       "      <td>0</td>\n",
       "      <td>Had to cut my round short</td>\n",
       "    </tr>\n",
       "    <tr>\n",
       "      <th>4</th>\n",
       "      <td>0</td>\n",
       "      <td>Mannn I neva get to see you anymore aunte,</td>\n",
       "    </tr>\n",
       "  </tbody>\n",
       "</table>\n",
       "</div>"
      ],
      "text/plain": [
       "   target                                               text\n",
       "0       0  Borderline suicidal, started at half 10 today ...\n",
       "1       0  i was in your store on monday didnt see you i ...\n",
       "2       0  where have you been,you better come with me to...\n",
       "3       0                          Had to cut my round short\n",
       "4       0         Mannn I neva get to see you anymore aunte,"
      ]
     },
     "execution_count": 28,
     "metadata": {},
     "output_type": "execute_result"
    }
   ],
   "source": [
    "df_final.head()"
   ]
  },
  {
   "cell_type": "code",
   "execution_count": 44,
   "id": "31dfe881-4d5d-49da-acf8-9eea8c2ef2af",
   "metadata": {},
   "outputs": [],
   "source": [
    "filename = \"datas/df_final.csv\"\n",
    "df_final.to_csv(filename, index=False)"
   ]
  },
  {
   "cell_type": "code",
   "execution_count": 29,
   "id": "2f583104-ed87-4d77-8a4d-0ff32c2662b3",
   "metadata": {},
   "outputs": [],
   "source": [
    "# Séparer les données\n",
    "X = df_final['text']\n",
    "y = df_final['target']\n",
    "X_train, X_test, y_train, y_test = train_test_split(X, y, test_size=0.2, random_state=42)"
   ]
  },
  {
   "cell_type": "markdown",
   "id": "44f47692-c135-4330-b2b8-f7a8af2fa6d9",
   "metadata": {},
   "source": [
    "# Chargement des modèles existants"
   ]
  },
  {
   "cell_type": "code",
   "execution_count": 30,
   "id": "f24674df-c7e2-4942-961d-a8afb2c04f13",
   "metadata": {},
   "outputs": [],
   "source": [
    "with open(\"Tf-idf_MLP-Classifier_model.pkl\", \"rb\") as f:\n",
    "    mlp_model = pickle.load(f)"
   ]
  },
  {
   "cell_type": "code",
   "execution_count": 31,
   "id": "dbae6101-d08f-4f7e-b61c-cc98fe496d95",
   "metadata": {},
   "outputs": [],
   "source": [
    "with open(\"tfidf_model.pkl\", \"rb\") as f:\n",
    "    tfidf_vectorizer = pickle.load(f)"
   ]
  },
  {
   "cell_type": "markdown",
   "id": "e1868a05-a9ad-4a01-a6a8-1a4430f93183",
   "metadata": {},
   "source": [
    "# Prédictions avec le modèle MLP Classifier"
   ]
  },
  {
   "cell_type": "code",
   "execution_count": 32,
   "id": "4a319145-f5c2-4eb4-8648-b73ab4f84670",
   "metadata": {},
   "outputs": [],
   "source": [
    "X_test_tfidf = tfidf_vectorizer.transform(X_test)\n",
    "mlp_predictions = mlp_model.predict(X_test_tfidf)"
   ]
  },
  {
   "cell_type": "code",
   "execution_count": 33,
   "id": "4193f668-a6b7-45c4-abc8-454554f8ac5d",
   "metadata": {},
   "outputs": [
    {
     "name": "stdout",
     "output_type": "stream",
     "text": [
      "\n",
      "=== MLP Classifier ===\n",
      "Accuracy: 0.6841\n",
      "F1 Score: 0.6608\n",
      "AUC: 0.6853\n",
      "              precision    recall  f1-score   support\n",
      "\n",
      "           0       0.89      0.42      0.57      5022\n",
      "           1       0.62      0.95      0.75      4978\n",
      "\n",
      "    accuracy                           0.68     10000\n",
      "   macro avg       0.76      0.69      0.66     10000\n",
      "weighted avg       0.76      0.68      0.66     10000\n",
      "\n"
     ]
    }
   ],
   "source": [
    "# Calcul des métriques pour la baseline\n",
    "print(\"\\n=== MLP Classifier ===\")\n",
    "print(f\"Accuracy: {accuracy_score(y_test, mlp_predictions):.4f}\")\n",
    "print(f\"F1 Score: {f1_score(y_test, mlp_predictions, average='weighted'):.4f}\")\n",
    "print(f\"AUC: {roc_auc_score(y_test, mlp_predictions):.4f}\")\n",
    "print(classification_report(y_test, mlp_predictions))"
   ]
  },
  {
   "cell_type": "markdown",
   "id": "57ef020f-09cb-4fb3-96b4-aae062446d5a",
   "metadata": {},
   "source": [
    "# Prédictions avec DistilBERT"
   ]
  },
  {
   "cell_type": "code",
   "execution_count": 34,
   "id": "9196b99c-ae65-4b77-baf4-54ceaf63c429",
   "metadata": {},
   "outputs": [
    {
     "name": "stderr",
     "output_type": "stream",
     "text": [
      "Some weights of DistilBertForSequenceClassification were not initialized from the model checkpoint at distilbert-base-uncased and are newly initialized: ['classifier.bias', 'classifier.weight', 'pre_classifier.bias', 'pre_classifier.weight']\n",
      "You should probably TRAIN this model on a down-stream task to be able to use it for predictions and inference.\n"
     ]
    }
   ],
   "source": [
    "# Initialisation de DistilBERT\n",
    "model_name = \"distilbert-base-uncased\"\n",
    "tokenizer = DistilBertTokenizer.from_pretrained(model_name)\n",
    "model = DistilBertForSequenceClassification.from_pretrained(model_name, num_labels=2)"
   ]
  },
  {
   "cell_type": "code",
   "execution_count": 35,
   "id": "dfe94f6a-ea93-4255-b220-ff18e07f99aa",
   "metadata": {},
   "outputs": [],
   "source": [
    "# Préparation des données pour DistilBERT\n",
    "train_encodings = tokenizer(list(X_train), truncation=True, padding=True, max_length=128)\n",
    "test_encodings = tokenizer(list(X_test), truncation=True, padding=True, max_length=128)"
   ]
  },
  {
   "cell_type": "code",
   "execution_count": 36,
   "id": "d01d512f-8269-4add-87cc-7419fa12abfd",
   "metadata": {},
   "outputs": [],
   "source": [
    "train_dataset = encode_data(train_encodings, list(y_train))\n",
    "test_dataset = encode_data(test_encodings, list(y_test))"
   ]
  },
  {
   "cell_type": "code",
   "execution_count": 38,
   "id": "f560fc88-1423-46a7-ba80-a3743fee10b4",
   "metadata": {},
   "outputs": [],
   "source": [
    "# Entraîner le modèle DistilBERT\n",
    "training_args = TrainingArguments(\n",
    "    output_dir=\"./results\",\n",
    "    evaluation_strategy=\"epoch\",\n",
    "    learning_rate=2e-5,\n",
    "    per_device_train_batch_size=32,  # Augmenté à 32\n",
    "    num_train_epochs=5,  # Jusqu’à 5 pour plus de robustesse\n",
    "    weight_decay=0.01,\n",
    "    save_total_limit=2,\n",
    "    logging_dir=\"./logs\"\n",
    ")"
   ]
  },
  {
   "cell_type": "code",
   "execution_count": 39,
   "id": "28a5aeca-23d7-4c1e-924d-4a9cbaf5dc59",
   "metadata": {},
   "outputs": [
    {
     "data": {
      "text/html": [
       "\n",
       "    <div>\n",
       "      \n",
       "      <progress value='6250' max='6250' style='width:300px; height:20px; vertical-align: middle;'></progress>\n",
       "      [6250/6250 9:08:37, Epoch 5/5]\n",
       "    </div>\n",
       "    <table border=\"1\" class=\"dataframe\">\n",
       "  <thead>\n",
       " <tr style=\"text-align: left;\">\n",
       "      <th>Epoch</th>\n",
       "      <th>Training Loss</th>\n",
       "      <th>Validation Loss</th>\n",
       "    </tr>\n",
       "  </thead>\n",
       "  <tbody>\n",
       "    <tr>\n",
       "      <td>1</td>\n",
       "      <td>0.402900</td>\n",
       "      <td>0.384421</td>\n",
       "    </tr>\n",
       "    <tr>\n",
       "      <td>2</td>\n",
       "      <td>0.316100</td>\n",
       "      <td>0.396414</td>\n",
       "    </tr>\n",
       "    <tr>\n",
       "      <td>3</td>\n",
       "      <td>0.220500</td>\n",
       "      <td>0.474383</td>\n",
       "    </tr>\n",
       "    <tr>\n",
       "      <td>4</td>\n",
       "      <td>0.155900</td>\n",
       "      <td>0.558928</td>\n",
       "    </tr>\n",
       "    <tr>\n",
       "      <td>5</td>\n",
       "      <td>0.117000</td>\n",
       "      <td>0.639850</td>\n",
       "    </tr>\n",
       "  </tbody>\n",
       "</table><p>"
      ],
      "text/plain": [
       "<IPython.core.display.HTML object>"
      ]
     },
     "metadata": {},
     "output_type": "display_data"
    },
    {
     "data": {
      "text/plain": [
       "TrainOutput(global_step=6250, training_loss=0.24610052276611327, metrics={'train_runtime': 32922.4925, 'train_samples_per_second': 6.075, 'train_steps_per_second': 0.19, 'total_flos': 6623369932800000.0, 'train_loss': 0.24610052276611327, 'epoch': 5.0})"
      ]
     },
     "execution_count": 39,
     "metadata": {},
     "output_type": "execute_result"
    }
   ],
   "source": [
    "trainer = Trainer(\n",
    "    model=model,\n",
    "    args=training_args,\n",
    "    train_dataset=train_dataset,\n",
    "    eval_dataset=test_dataset,\n",
    ")\n",
    "\n",
    "trainer.train()"
   ]
  },
  {
   "cell_type": "code",
   "execution_count": 40,
   "id": "4a6f5ad4-7859-4954-ac4a-be21a2323279",
   "metadata": {},
   "outputs": [
    {
     "name": "stdout",
     "output_type": "stream",
     "text": [
      "Modèle et tokenizer sauvegardés dans le répertoire : ./distilbert_finetuned_v2\n"
     ]
    }
   ],
   "source": [
    "# Sauvegarder le modèle fine-tuné et le tokenizer\n",
    "output_dir = \"./distilbert_finetuned_v2\"\n",
    "model.save_pretrained(output_dir)\n",
    "tokenizer.save_pretrained(output_dir)\n",
    "\n",
    "print(f\"Modèle et tokenizer sauvegardés dans le répertoire : {output_dir}\")"
   ]
  },
  {
   "cell_type": "code",
   "execution_count": 41,
   "id": "f33abf46-b162-4466-a673-c5d2286bb2e1",
   "metadata": {},
   "outputs": [
    {
     "data": {
      "text/html": [],
      "text/plain": [
       "<IPython.core.display.HTML object>"
      ]
     },
     "metadata": {},
     "output_type": "display_data"
    }
   ],
   "source": [
    "# Évaluer le modèle DistilBERT\n",
    "predictions = trainer.predict(test_dataset)\n",
    "pred_labels = torch.argmax(torch.tensor(predictions.predictions), axis=1).numpy()"
   ]
  },
  {
   "cell_type": "code",
   "execution_count": 42,
   "id": "fead24dc-0736-4095-8ddf-85b9f0e41c13",
   "metadata": {},
   "outputs": [
    {
     "name": "stdout",
     "output_type": "stream",
     "text": [
      "\n",
      "=== DistilBERT ===\n",
      "Accuracy: 0.8229\n",
      "F1 Score: 0.8229\n",
      "AUC: 0.8229\n",
      "              precision    recall  f1-score   support\n",
      "\n",
      "           0       0.83      0.82      0.82      5022\n",
      "           1       0.82      0.83      0.82      4978\n",
      "\n",
      "    accuracy                           0.82     10000\n",
      "   macro avg       0.82      0.82      0.82     10000\n",
      "weighted avg       0.82      0.82      0.82     10000\n",
      "\n"
     ]
    }
   ],
   "source": [
    "# Calcul des métriques pour DistilBERT\n",
    "print(\"\\n=== DistilBERT ===\")\n",
    "print(f\"Accuracy: {accuracy_score(y_test, pred_labels):.4f}\")\n",
    "print(f\"F1 Score: {f1_score(y_test, pred_labels, average='weighted'):.4f}\")\n",
    "print(f\"AUC: {roc_auc_score(y_test, pred_labels):.4f}\")\n",
    "print(classification_report(y_test, pred_labels))"
   ]
  }
 ],
 "metadata": {
  "kernelspec": {
   "display_name": "Python 3 (ipykernel)",
   "language": "python",
   "name": "python3"
  },
  "language_info": {
   "codemirror_mode": {
    "name": "ipython",
    "version": 3
   },
   "file_extension": ".py",
   "mimetype": "text/x-python",
   "name": "python",
   "nbconvert_exporter": "python",
   "pygments_lexer": "ipython3",
   "version": "3.12.0"
  }
 },
 "nbformat": 4,
 "nbformat_minor": 5
}
